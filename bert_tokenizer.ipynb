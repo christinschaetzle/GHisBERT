{
 "cells": [
  {
   "cell_type": "code",
   "execution_count": 1,
   "id": "4a0a3b57-545c-4008-961c-b07f309958b4",
   "metadata": {},
   "outputs": [
    {
     "data": {
      "text/plain": [
       "'\\nBERT Tokenizer for historical German data \\nInput data: sentences extracted from Referenzkorpora zur deutschen Sprachgeschichte \\nand German Data from Semeval2020 challenge on LSC\\n\\n'"
      ]
     },
     "execution_count": 1,
     "metadata": {},
     "output_type": "execute_result"
    }
   ],
   "source": [
    "\"\"\"\n",
    "BERT Tokenizer for historical German data \n",
    "Input data: sentences extracted from Referenzkorpora zur deutschen Sprachgeschichte \n",
    "and German Data from Semeval2020 challenge on LSC\n",
    "\n",
    "\"\"\""
   ]
  },
  {
   "cell_type": "code",
   "execution_count": 2,
   "id": "f6cae35f-0b34-4ec2-911b-5703278105e0",
   "metadata": {},
   "outputs": [],
   "source": [
    "__author__ = 'Christin Beck'\n",
    "__created__ = '31.05.2023'"
   ]
  },
  {
   "cell_type": "code",
   "execution_count": 3,
   "id": "2f8c06da-a6a8-4fd2-abb7-8c29ff62ffb7",
   "metadata": {},
   "outputs": [
    {
     "name": "stderr",
     "output_type": "stream",
     "text": [
      "2023-06-12 12:41:12.706269: I tensorflow/core/platform/cpu_feature_guard.cc:193] This TensorFlow binary is optimized with oneAPI Deep Neural Network Library (oneDNN) to use the following CPU instructions in performance-critical operations:  AVX2 FMA\n",
      "To enable them in other operations, rebuild TensorFlow with the appropriate compiler flags.\n",
      "/usr/local/jupyterhub/lib64/python3.10/site-packages/transformers/generation_utils.py:24: FutureWarning: Importing `GenerationMixin` from `src/transformers/generation_utils.py` is deprecated and will be removed in Transformers v5. Import as `from transformers import GenerationMixin` instead.\n",
      "  warnings.warn(\n",
      "/usr/local/jupyterhub/lib64/python3.10/site-packages/transformers/generation_tf_utils.py:24: FutureWarning: Importing `TFGenerationMixin` from `src/transformers/generation_tf_utils.py` is deprecated and will be removed in Transformers v5. Import as `from transformers import TFGenerationMixin` instead.\n",
      "  warnings.warn(\n"
     ]
    }
   ],
   "source": [
    "from icecream import ic\n",
    "\n",
    "import re\n",
    "import os\n",
    "\n",
    "import numpy as np\n",
    "import torch\n",
    "from transformers import *\n",
    "from tokenizers import BertWordPieceTokenizer\n",
    "\n",
    "import pandas as pd\n",
    "\n",
    "import logging\n",
    "\n",
    "import sys\n",
    "\n",
    "import json"
   ]
  },
  {
   "cell_type": "code",
   "execution_count": 4,
   "id": "16fa8552-7672-436c-a4a2-358b13d147e1",
   "metadata": {},
   "outputs": [],
   "source": [
    "#load data\n",
    "files = ['sentences_all.txt']"
   ]
  },
  {
   "cell_type": "code",
   "execution_count": 5,
   "id": "b28f7e25-af98-4521-a3c2-55d775846251",
   "metadata": {},
   "outputs": [],
   "source": [
    "#Data prep\n",
    "special_tokens = [\"[PAD]\", \"[UNK]\", \"[CLS]\", \"[SEP]\", \"[MASK]\", \"<S>\", \"<T>\"]\n",
    "    \n",
    "#This is the standard vocab size in BERT, can be altered\n",
    "vocab_size = 30_522\n",
    "#maximum sequence length, lowering will result to faster training (when increasing batch size)\n",
    "max_length = 512\n",
    "#whether to truncate, set to False, we'll truncate sentences wrt max_length‚\n",
    "truncate_longer_samples = False"
   ]
  },
  {
   "cell_type": "code",
   "execution_count": 6,
   "id": "7c8613ae-3f34-4adf-b637-22850f4bd5b2",
   "metadata": {},
   "outputs": [
    {
     "name": "stdout",
     "output_type": "stream",
     "text": [
      "\n",
      "\n",
      "\n"
     ]
    }
   ],
   "source": [
    "#Initialize the WordPiece tokenizer\n",
    "tokenizer = BertWordPieceTokenizer()\n",
    "#train the tokenizer\n",
    "tokenizer.train(files=files, vocab_size=vocab_size, special_tokens=special_tokens)\n",
    "#enable truncation up to the maximum 512 tokens\n",
    "tokenizer.enable_truncation(max_length=max_length)"
   ]
  },
  {
   "cell_type": "code",
   "execution_count": 7,
   "id": "9febac3d-8704-4edc-b081-8b3336353577",
   "metadata": {},
   "outputs": [],
   "source": [
    "#Save tokenizer (json)\n",
    "model_path = 'pretrained-tokenizer'\n",
    "\n",
    "#make the directory if not already there\n",
    "if not os.path.isdir(model_path):\n",
    "        os.mkdir(model_path)\n",
    "#save the tokenizer  \n",
    "tokenizer.save_model(model_path)\n",
    "#dumping some of the tokenizer config to config file, \n",
    "#including special tokens, whether to lower case and the maximum sequence length\n",
    "with open(os.path.join(model_path, \"tokenizer_config.json\"), \"w\") as f:\n",
    "    tokenizer_cfg = {\n",
    "        \"do_lower_case\": True,\n",
    "        \"unk_token\": \"[UNK]\",\n",
    "        \"sep_token\": \"[SEP]\",\n",
    "        \"pad_token\": \"[PAD]\",\n",
    "        \"cls_token\": \"[CLS]\",\n",
    "        \"mask_token\": \"[MASK]\",\n",
    "        \"model_max_length\": max_length,\n",
    "        \"max_len\": max_length,\n",
    "    }\n",
    "    json.dump(tokenizer_cfg, f)"
   ]
  },
  {
   "cell_type": "code",
   "execution_count": null,
   "id": "d600e9b0-26a4-457d-80fb-1999a4ae545b",
   "metadata": {},
   "outputs": [],
   "source": []
  }
 ],
 "metadata": {
  "kernelspec": {
   "display_name": "Python 3 (ipykernel)",
   "language": "python",
   "name": "python3"
  },
  "language_info": {
   "codemirror_mode": {
    "name": "ipython",
    "version": 3
   },
   "file_extension": ".py",
   "mimetype": "text/x-python",
   "name": "python",
   "nbconvert_exporter": "python",
   "pygments_lexer": "ipython3",
   "version": "3.10.13"
  }
 },
 "nbformat": 4,
 "nbformat_minor": 5
}
